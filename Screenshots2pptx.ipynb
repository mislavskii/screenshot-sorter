{
 "cells": [
  {
   "cell_type": "markdown",
   "id": "9418f3af-aa5f-4c38-a5f5-ea6bb0c3eb49",
   "metadata": {},
   "source": [
    "# Pulling a Series of Screenshots into a PowerPoint Presentation\n",
    "\n",
    "The objective is to create and save a PowerPoint file populated with images from specified folder, optionally matching certain filename criteria."
   ]
  },
  {
   "cell_type": "markdown",
   "id": "1eb22182-8122-4966-ab66-758b988f2ebf",
   "metadata": {},
   "source": [
    "### References:\n",
    "- <a href=\"https://python-pptx.readthedocs.io/en/latest/index.html\">python-pptx</a>\n",
    "- <a href=\"https://docs.python.org/3/library/os.html\">os — Miscellaneous operating system interfaces</a>"
   ]
  },
  {
   "cell_type": "code",
   "execution_count": 2,
   "id": "07c9ec90-adda-4902-a208-13f1c392c92e",
   "metadata": {
    "tags": [],
    "ExecuteTime": {
     "end_time": "2024-07-27T07:38:20.209869200Z",
     "start_time": "2024-07-27T07:38:19.929489500Z"
    }
   },
   "outputs": [],
   "source": [
    "import os\n",
    "from pptx import Presentation\n",
    "from pptx.util import Inches, Pt\n",
    "# from pptx.enum.shapes import MSO_SHAPE\n",
    "import requests as rq\n",
    "from bs4 import BeautifulSoup as BS"
   ]
  },
  {
   "cell_type": "markdown",
   "id": "b6cefa9d-9d16-4813-b257-60cd6479c44e",
   "metadata": {
    "tags": []
   },
   "source": [
    "### Building a presentation from screenshots"
   ]
  },
  {
   "cell_type": "code",
   "execution_count": 7,
   "id": "1afc63f7-5d45-4bdf-a1e0-dcd2715bfa6a",
   "metadata": {
    "ExecuteTime": {
     "end_time": "2024-06-20T04:03:15.103612Z",
     "start_time": "2024-06-20T04:03:15.060266600Z"
    }
   },
   "outputs": [],
   "source": [
    "prs = Presentation()\n",
    "\n",
    "# setting the things up\n",
    "prs.slide_width = Inches(13.333)\n",
    "prs.slide_height = Inches(7.5)\n",
    "title_slide_layout = prs.slide_layouts[0]\n",
    "image_slide_layout = prs.slide_layouts[6]\n",
    "\n",
    "title = 'ปลดล็อก_ ประวัติศาสตร์ คนไทยคือ _ลูกผสม_ จากสยาม'.replace('_', '')\n",
    "subtitle = 'ขรรค์ชัย-สุจิตต์ ทอดน่องท่องเที่ยว'\n",
    "\n",
    "# preparing the title slide\n",
    "slide = prs.slides.add_slide(title_slide_layout)\n",
    "title_shape = slide.shapes.title\n",
    "subtitle_shape = slide.placeholders[1]\n",
    "prs.save(title + '.pptx')\n",
    "\n",
    "# populating the placeholders\n",
    "title_shape.text = title\n",
    "subtitle_shape.text = subtitle\n",
    "\n",
    "# prs.save(title + '.pptx')"
   ]
  },
  {
   "cell_type": "code",
   "execution_count": 8,
   "id": "8f748650-1be3-4713-8e16-870135460abc",
   "metadata": {
    "tags": [],
    "ExecuteTime": {
     "end_time": "2024-06-20T04:03:15.103612Z",
     "start_time": "2024-06-20T04:03:15.077849600Z"
    }
   },
   "outputs": [
    {
     "name": "stdout",
     "output_type": "stream",
     "text": [
      "0, CENTER_TITLE (3)\n",
      "1, SUBTITLE (4)\n"
     ]
    }
   ],
   "source": [
    "for shape in slide.shapes:\n",
    "    if shape.is_placeholder:\n",
    "        phf = shape.placeholder_format\n",
    "        print('%d, %s' % (phf.idx, phf.type))\n",
    "    else:\n",
    "        print('Not a placeholder')"
   ]
  },
  {
   "cell_type": "markdown",
   "id": "a901b4d6-a394-4693-8b4c-9e47dbf2a5fe",
   "metadata": {},
   "source": [
    "Turns out too complicated"
   ]
  },
  {
   "cell_type": "markdown",
   "id": "998c1ed9-c09a-44ed-9ffd-37c1dc0cf4d0",
   "metadata": {
    "tags": []
   },
   "source": [
    "### Populating a manually created presentation stub (just blank title) with screenshot images\n",
    "\n",
    "one per slide."
   ]
  },
  {
   "cell_type": "code",
   "execution_count": 3,
   "id": "4c323366-69c3-40e0-a42b-ad82f7f7a8a0",
   "metadata": {
    "tags": [],
    "ExecuteTime": {
     "end_time": "2024-07-27T07:38:29.792932900Z",
     "start_time": "2024-07-27T07:38:29.787823100Z"
    }
   },
   "outputs": [],
   "source": [
    "class Screens2PPTX:\n",
    "\n",
    "    @staticmethod\n",
    "    def contains_all(string, lst):\n",
    "        \"\"\"Returns True if and only if each meaningful (non-empty, longer than one char) element from the list-like lst is contained in the string\"\"\"\n",
    "        for item in lst:\n",
    "            item = item.strip('\": ')\n",
    "            if len(item) > 1 and item not in string:\n",
    "                return False\n",
    "        return True\n",
    "    \n",
    "    def __init__(self, pptx_file, image_dir,\n",
    "                    keystring=''  # all whitespace-separated fragments of this are to be contained in the image file name as eligibility screen\n",
    "                                  # if left empty, the value of title from pres properties is used automatically -- TOKENIZE?\n",
    "                ):\n",
    "        self.pptx_file = pptx_file.replace('\\\\', '/')\n",
    "        self.prs = Presentation(pptx_file)\n",
    "        self.image_dir = image_dir.replace('\\\\', '/')\n",
    "        self.keystring = keystring\n",
    "        self.title = self.pptx_file.rsplit('/', 1)[-1].rsplit('.', 1)[0]\n",
    "        self.prs.core_properties.title = self.title\n",
    "\n",
    "    def populate_title(self):\n",
    "        title_slide = self.prs.slides[0]\n",
    "        title_shape = title_slide.shapes.title\n",
    "        title_shape.text = self.title\n",
    "\n",
    "    def build_title_slide(self):\n",
    "        self.populate_title()\n",
    "        self.prs.save(self.pptx_file)\n",
    "\n",
    "    def pull_images(self):\n",
    "        prs = self.prs\n",
    "        keystring = self.keystring if self.keystring else self.title\n",
    "        print(f'Pulling from {self.image_dir}\\ninto {self.pptx_file}')\n",
    "        if len(prs.slides) > 1:\n",
    "            proceed = input('WARNING! More than one slide detected. Eligible images will be added to the end. Any symbol to proceed, mere Enter to cancel.')\n",
    "            if not proceed:\n",
    "                print('Operation aborted. Please check destination file contents.')\n",
    "                return\n",
    "        blank_slide_layout = prs.slide_layouts[6]\n",
    "        image_files = [file for file in os.scandir(image_dir) if self.contains_all(file.name, keystring.split(' ')) and file.name.endswith('.png')]  # TODO: tokenize rather than split?\n",
    "        image_files.sort(key=lambda x: x.stat().st_ctime)\n",
    "        print(f'Total eligible images: {len(image_files)}')\n",
    "        for image in image_files:\n",
    "            slide = prs.slides.add_slide(blank_slide_layout)\n",
    "            slide.shapes.add_picture(image.path, 0, 0, prs.slide_width)\n",
    "            print('.', end=\"\")\n",
    "        print('\\nDone')\n",
    "        prs.save(self.pptx_file)"
   ]
  },
  {
   "cell_type": "code",
   "execution_count": 4,
   "id": "cf29966b-1ea2-4b17-943f-e8437e2a82e1",
   "metadata": {
    "tags": [],
    "ExecuteTime": {
     "end_time": "2024-07-27T07:38:43.952255400Z",
     "start_time": "2024-07-27T07:38:41.790154500Z"
    }
   },
   "outputs": [
    {
     "name": "stdout",
     "output_type": "stream",
     "text": [
      "Pulling from C:/Users/User/Videos/Captures\n",
      "into F:/User/Learn/ไทยศึกษา/เสียงสะท้อนอดีต/เขมรยุคโบราณมีตัวตนอยู่จริงหรือไม่ เปิดเอกสารพ่อค้าอาหรับ-เปอร์เชีย พ.ศ.1300.pptx\n",
      "Total eligible images: 41\n",
      ".........................................\n",
      "Done\n"
     ]
    }
   ],
   "source": [
    "pptx_file = r'F:\\User\\Learn\\ไทยศึกษา\\เสียงสะท้อนอดีต\\เขมรยุคโบราณมีตัวตนอยู่จริงหรือไม่ เปิดเอกสารพ่อค้าอาหรับ-เปอร์เชีย พ.ศ.1300.pptx'\n",
    "image_dir = r'C:\\Users\\User\\Videos\\Captures'\n",
    "\n",
    "x = Screens2PPTX(pptx_file, image_dir)\n",
    "x.build_title_slide()\n",
    "x.pull_images()"
   ]
  }
 ],
 "metadata": {
  "kernelspec": {
   "display_name": "Python 3 (ipykernel)",
   "language": "python",
   "name": "python3"
  },
  "language_info": {
   "codemirror_mode": {
    "name": "ipython",
    "version": 3
   },
   "file_extension": ".py",
   "mimetype": "text/x-python",
   "name": "python",
   "nbconvert_exporter": "python",
   "pygments_lexer": "ipython3",
   "version": "3.11.5"
  }
 },
 "nbformat": 4,
 "nbformat_minor": 5
}
