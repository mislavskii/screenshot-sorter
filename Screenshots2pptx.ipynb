{
 "cells": [
  {
   "cell_type": "markdown",
   "id": "9418f3af-aa5f-4c38-a5f5-ea6bb0c3eb49",
   "metadata": {},
   "source": [
    "# Pulling a Series of Screenshots into a PowerPoint Presentation\n",
    "\n",
    "The objective is to create and save a PowerPoint file populated with images from specified folder, optionally matching certain filename criteria."
   ]
  },
  {
   "cell_type": "markdown",
   "id": "1eb22182-8122-4966-ab66-758b988f2ebf",
   "metadata": {},
   "source": [
    "### References:\n",
    "- <a href=\"https://python-pptx.readthedocs.io/en/latest/index.html\">python-pptx</a>\n",
    "- <a href=\"https://docs.python.org/3/library/os.html\">os — Miscellaneous operating system interfaces</a>"
   ]
  },
  {
   "cell_type": "code",
   "execution_count": 1,
   "id": "07c9ec90-adda-4902-a208-13f1c392c92e",
   "metadata": {
    "tags": [],
    "ExecuteTime": {
     "end_time": "2024-06-18T15:40:27.013583700Z",
     "start_time": "2024-06-18T15:40:26.758925800Z"
    }
   },
   "outputs": [],
   "source": [
    "import os\n",
    "from pptx import Presentation\n",
    "from pptx.util import Inches, Pt\n",
    "# from pptx.enum.shapes import MSO_SHAPE\n",
    "import requests as rq\n",
    "from bs4 import BeautifulSoup as BS"
   ]
  },
  {
   "cell_type": "markdown",
   "id": "b6cefa9d-9d16-4813-b257-60cd6479c44e",
   "metadata": {
    "tags": []
   },
   "source": [
    "### Building a presentation from screenshots"
   ]
  },
  {
   "cell_type": "code",
   "execution_count": 2,
   "id": "1afc63f7-5d45-4bdf-a1e0-dcd2715bfa6a",
   "metadata": {
    "ExecuteTime": {
     "end_time": "2024-06-18T15:40:27.043929600Z",
     "start_time": "2024-06-18T15:40:27.014583700Z"
    }
   },
   "outputs": [],
   "source": [
    "prs = Presentation()\n",
    "\n",
    "# setting the things up\n",
    "prs.slide_width = Inches(13.333)\n",
    "prs.slide_height = Inches(7.5)\n",
    "title_slide_layout = prs.slide_layouts[0]\n",
    "image_slide_layout = prs.slide_layouts[6]\n",
    "\n",
    "title = 'ปลดล็อก_ ประวัติศาสตร์ คนไทยคือ _ลูกผสม_ จากสยาม'.replace('_', '')\n",
    "subtitle = 'ขรรค์ชัย-สุจิตต์ ทอดน่องท่องเที่ยว'\n",
    "\n",
    "# preparing the title slide\n",
    "slide = prs.slides.add_slide(title_slide_layout)\n",
    "title_shape = slide.shapes.title\n",
    "subtitle_shape = slide.placeholders[1]\n",
    "prs.save(title + '.pptx')\n",
    "\n",
    "# populating the placeholders\n",
    "title_shape.text = title\n",
    "subtitle_shape.text = subtitle\n",
    "\n",
    "# prs.save(title + '.pptx')"
   ]
  },
  {
   "cell_type": "code",
   "execution_count": 3,
   "id": "8f748650-1be3-4713-8e16-870135460abc",
   "metadata": {
    "tags": [],
    "ExecuteTime": {
     "end_time": "2024-06-18T15:40:27.054185400Z",
     "start_time": "2024-06-18T15:40:27.041930Z"
    }
   },
   "outputs": [
    {
     "name": "stdout",
     "output_type": "stream",
     "text": [
      "0, CENTER_TITLE (3)\n",
      "1, SUBTITLE (4)\n"
     ]
    }
   ],
   "source": [
    "for shape in slide.shapes:\n",
    "    if shape.is_placeholder:\n",
    "        phf = shape.placeholder_format\n",
    "        print('%d, %s' % (phf.idx, phf.type))\n",
    "    else:\n",
    "        print('Not a placeholder')"
   ]
  },
  {
   "cell_type": "markdown",
   "id": "a901b4d6-a394-4693-8b4c-9e47dbf2a5fe",
   "metadata": {},
   "source": [
    "Turns out too complicated"
   ]
  },
  {
   "cell_type": "markdown",
   "id": "998c1ed9-c09a-44ed-9ffd-37c1dc0cf4d0",
   "metadata": {
    "tags": []
   },
   "source": [
    "### Populating a manually created presentation stub (just blank title) with screenshot images\n",
    "\n",
    "one per slide."
   ]
  },
  {
   "cell_type": "code",
   "execution_count": 4,
   "id": "4c323366-69c3-40e0-a42b-ad82f7f7a8a0",
   "metadata": {
    "tags": [],
    "ExecuteTime": {
     "end_time": "2024-06-18T15:40:27.056193400Z",
     "start_time": "2024-06-18T15:40:27.051672Z"
    }
   },
   "outputs": [],
   "source": [
    "class Screens2PPTX:\n",
    "\n",
    "    @staticmethod\n",
    "    def contains_all(string, lst):\n",
    "        \"\"\"Returns True if and only if each meaningful (non-empty, longer than one char) element from the list-like lst is contained in the string\"\"\"\n",
    "        for item in lst:\n",
    "            item = item.strip('\": ')\n",
    "            if len(item) > 1 and item not in string:\n",
    "                return False\n",
    "        return True\n",
    "    \n",
    "    def __init__(self, pptx_file, image_dir,\n",
    "                    keystring=''  # all whitespace-separated fragments of this are to be contained in the image file name as eligibility screen\n",
    "                                  # if left empty, the value of title from pres properties is used automatically -- TOKENIZE?\n",
    "                ):\n",
    "        self.pptx_file = pptx_file.replace('\\\\', '/')\n",
    "        self.prs = Presentation(pptx_file)\n",
    "        self.image_dir = image_dir.replace('\\\\', '/')\n",
    "        self.keystring = keystring\n",
    "        self.title = self.pptx_file.rsplit('/', 1)[-1].rsplit('.', 1)[0]\n",
    "        self.prs.core_properties.title = self.title\n",
    "\n",
    "    def populate_title(self):\n",
    "        title_slide = self.prs.slides[0]\n",
    "        title_shape = title_slide.shapes.title\n",
    "        title_shape.text = self.title\n",
    "\n",
    "    def populate_subtitle(self):\n",
    "        if not url:\n",
    "            return\n",
    "        r = rq.get(url, timeout=30)\n",
    "        r.encoding = 'utf-8'\n",
    "        soup = BS(r.text)\n",
    "        channel = soup.find(attrs={'class': 'ytd-channel-name'}).text\n",
    "        print(channel)\n",
    "\n",
    "\n",
    "    def build_title_slide(self):\n",
    "        self.populate_title()\n",
    "        self.populate_subtitle()  # not yet implemented\n",
    "        self.prs.save(self.pptx_file)\n",
    "\n",
    "\n",
    "    def pull_images(self):\n",
    "        prs = self.prs\n",
    "        keystring = self.keystring\n",
    "        print(f'Pulling from {self.image_dir}\\ninto {self.pptx_file}')\n",
    "\n",
    "        if len(prs.slides) > 1:\n",
    "            proceed = input('WARNING! More than one slide detected. Eligible images will be added to the end. Any symbol to proceed, mere Enter to cancel.')\n",
    "            if not proceed:\n",
    "                print('Operation aborted. Please check destination file contents.')\n",
    "                return\n",
    "\n",
    "        blank_slide_layout = prs.slide_layouts[6]\n",
    "\n",
    "        if not keystring:\n",
    "            keystring = self.title\n",
    "\n",
    "        image_files = [file for file in os.scandir(image_dir) if self.contains_all(file.name, keystring.split(' ')) and file.name.endswith('.png')]  # TODO: tokenize rather than split?\n",
    "        image_files.sort(key=lambda x: x.stat().st_ctime)\n",
    "        print(f'Total eligible images: {len(image_files)}')\n",
    "\n",
    "        for image in image_files:\n",
    "            slide = prs.slides.add_slide(blank_slide_layout)\n",
    "            slide.shapes.add_picture(image.path, 0, 0, prs.slide_width)\n",
    "            print('.', end=\"\")\n",
    "        print('\\nDone')\n",
    "\n",
    "        prs.save(pptx_file)"
   ]
  },
  {
   "cell_type": "code",
   "execution_count": 5,
   "id": "cf29966b-1ea2-4b17-943f-e8437e2a82e1",
   "metadata": {
    "tags": [],
    "ExecuteTime": {
     "end_time": "2024-06-18T15:40:48.914116300Z",
     "start_time": "2024-06-18T15:40:46.534420100Z"
    }
   },
   "outputs": [
    {
     "name": "stdout",
     "output_type": "stream",
     "text": [
      "Pulling from C:/Users/User/Videos/Captures\n",
      "into F:/User/Learn/ไทยศึกษา/รุ่นเก๋า เล่าเกร็ด/ep.104 ลางร้าย ในพงศาวดาร (ภาค ๑) - [รุ่นเก๋า...เล่าเกร็ด].pptx\n",
      "Total eligible images: 44\n",
      "............................................\n",
      "Done\n"
     ]
    }
   ],
   "source": [
    "pptx_file = r'F:\\User\\Learn\\ไทยศึกษา\\รุ่นเก๋า เล่าเกร็ด\\ep.104 ลางร้าย ในพงศาวดาร (ภาค ๑) - [รุ่นเก๋า...เล่าเกร็ด].pptx'\n",
    "image_dir = r'C:\\Users\\User\\Videos\\Captures'\n",
    "url = ''\n",
    "\n",
    "x = Screens2PPTX(pptx_file, image_dir)\n",
    "x.build_title_slide()\n",
    "x.pull_images()"
   ]
  },
  {
   "cell_type": "code",
   "execution_count": 24,
   "outputs": [
    {
     "name": "stdout",
     "output_type": "stream",
     "text": [
      "Pulling from C:/Users/User/Videos/Captures\n",
      "into F:/User/Explore/Space/ISO/Avi Loeb - The Search for Interstellar Objects of Technological Origin.pptx\n",
      "Total eligible images: 19\n",
      "...................\n",
      "Done\n"
     ]
    }
   ],
   "source": [
    "x.pull_images()"
   ],
   "metadata": {
    "collapsed": false,
    "ExecuteTime": {
     "end_time": "2024-06-17T16:10:34.141557600Z",
     "start_time": "2024-06-17T16:10:33.212540400Z"
    }
   }
  },
  {
   "cell_type": "code",
   "execution_count": 22,
   "outputs": [
    {
     "data": {
      "text/plain": "'https://www.youtube.com/watch?v=6eXupH1_v9s'"
     },
     "execution_count": 22,
     "metadata": {},
     "output_type": "execute_result"
    }
   ],
   "source": [
    "x.keystring"
   ],
   "metadata": {
    "collapsed": false,
    "ExecuteTime": {
     "end_time": "2024-06-17T16:09:25.139001500Z",
     "start_time": "2024-06-17T16:09:25.134694700Z"
    }
   }
  },
  {
   "cell_type": "code",
   "execution_count": 15,
   "outputs": [
    {
     "ename": "AttributeError",
     "evalue": "'NoneType' object has no attribute 'text'",
     "output_type": "error",
     "traceback": [
      "\u001B[1;31m---------------------------------------------------------------------------\u001B[0m",
      "\u001B[1;31mAttributeError\u001B[0m                            Traceback (most recent call last)",
      "Cell \u001B[1;32mIn[15], line 4\u001B[0m\n\u001B[0;32m      2\u001B[0m r\u001B[38;5;241m.\u001B[39mencoding \u001B[38;5;241m=\u001B[39m \u001B[38;5;124m'\u001B[39m\u001B[38;5;124mutf-8\u001B[39m\u001B[38;5;124m'\u001B[39m\n\u001B[0;32m      3\u001B[0m soup \u001B[38;5;241m=\u001B[39m BS(r\u001B[38;5;241m.\u001B[39mtext)\n\u001B[1;32m----> 4\u001B[0m channel \u001B[38;5;241m=\u001B[39m soup\u001B[38;5;241m.\u001B[39mfind(attrs\u001B[38;5;241m=\u001B[39m{\u001B[38;5;124m'\u001B[39m\u001B[38;5;124mclass\u001B[39m\u001B[38;5;124m'\u001B[39m: \u001B[38;5;124m'\u001B[39m\u001B[38;5;124mytd-channel-name\u001B[39m\u001B[38;5;124m'\u001B[39m})\u001B[38;5;241m.\u001B[39mtext\n\u001B[0;32m      5\u001B[0m \u001B[38;5;28mprint\u001B[39m(channel)\n",
      "\u001B[1;31mAttributeError\u001B[0m: 'NoneType' object has no attribute 'text'"
     ]
    }
   ],
   "source": [
    "r = rq.get(url, timeout=30)\n",
    "r.encoding = 'utf-8'\n",
    "soup = BS(r.text)\n",
    "channel = soup.find(attrs={'class': 'ytd-channel-name'}).text\n",
    "print(channel)"
   ],
   "metadata": {
    "collapsed": false,
    "ExecuteTime": {
     "end_time": "2024-06-17T15:58:16.536257300Z",
     "start_time": "2024-06-17T15:58:15.097592700Z"
    }
   }
  },
  {
   "cell_type": "code",
   "execution_count": 20,
   "outputs": [
    {
     "ename": "JSONDecodeError",
     "evalue": "Expecting value: line 1 column 1 (char 0)",
     "output_type": "error",
     "traceback": [
      "\u001B[1;31m---------------------------------------------------------------------------\u001B[0m",
      "\u001B[1;31mJSONDecodeError\u001B[0m                           Traceback (most recent call last)",
      "File \u001B[1;32m~\\anaconda3\\Lib\\site-packages\\requests\\models.py:971\u001B[0m, in \u001B[0;36mResponse.json\u001B[1;34m(self, **kwargs)\u001B[0m\n\u001B[0;32m    970\u001B[0m \u001B[38;5;28;01mtry\u001B[39;00m:\n\u001B[1;32m--> 971\u001B[0m     \u001B[38;5;28;01mreturn\u001B[39;00m complexjson\u001B[38;5;241m.\u001B[39mloads(\u001B[38;5;28mself\u001B[39m\u001B[38;5;241m.\u001B[39mtext, \u001B[38;5;241m*\u001B[39m\u001B[38;5;241m*\u001B[39mkwargs)\n\u001B[0;32m    972\u001B[0m \u001B[38;5;28;01mexcept\u001B[39;00m JSONDecodeError \u001B[38;5;28;01mas\u001B[39;00m e:\n\u001B[0;32m    973\u001B[0m     \u001B[38;5;66;03m# Catch JSON-related errors and raise as requests.JSONDecodeError\u001B[39;00m\n\u001B[0;32m    974\u001B[0m     \u001B[38;5;66;03m# This aliases json.JSONDecodeError and simplejson.JSONDecodeError\u001B[39;00m\n",
      "File \u001B[1;32m~\\anaconda3\\Lib\\json\\__init__.py:346\u001B[0m, in \u001B[0;36mloads\u001B[1;34m(s, cls, object_hook, parse_float, parse_int, parse_constant, object_pairs_hook, **kw)\u001B[0m\n\u001B[0;32m    343\u001B[0m \u001B[38;5;28;01mif\u001B[39;00m (\u001B[38;5;28mcls\u001B[39m \u001B[38;5;129;01mis\u001B[39;00m \u001B[38;5;28;01mNone\u001B[39;00m \u001B[38;5;129;01mand\u001B[39;00m object_hook \u001B[38;5;129;01mis\u001B[39;00m \u001B[38;5;28;01mNone\u001B[39;00m \u001B[38;5;129;01mand\u001B[39;00m\n\u001B[0;32m    344\u001B[0m         parse_int \u001B[38;5;129;01mis\u001B[39;00m \u001B[38;5;28;01mNone\u001B[39;00m \u001B[38;5;129;01mand\u001B[39;00m parse_float \u001B[38;5;129;01mis\u001B[39;00m \u001B[38;5;28;01mNone\u001B[39;00m \u001B[38;5;129;01mand\u001B[39;00m\n\u001B[0;32m    345\u001B[0m         parse_constant \u001B[38;5;129;01mis\u001B[39;00m \u001B[38;5;28;01mNone\u001B[39;00m \u001B[38;5;129;01mand\u001B[39;00m object_pairs_hook \u001B[38;5;129;01mis\u001B[39;00m \u001B[38;5;28;01mNone\u001B[39;00m \u001B[38;5;129;01mand\u001B[39;00m \u001B[38;5;129;01mnot\u001B[39;00m kw):\n\u001B[1;32m--> 346\u001B[0m     \u001B[38;5;28;01mreturn\u001B[39;00m _default_decoder\u001B[38;5;241m.\u001B[39mdecode(s)\n\u001B[0;32m    347\u001B[0m \u001B[38;5;28;01mif\u001B[39;00m \u001B[38;5;28mcls\u001B[39m \u001B[38;5;129;01mis\u001B[39;00m \u001B[38;5;28;01mNone\u001B[39;00m:\n",
      "File \u001B[1;32m~\\anaconda3\\Lib\\json\\decoder.py:337\u001B[0m, in \u001B[0;36mJSONDecoder.decode\u001B[1;34m(self, s, _w)\u001B[0m\n\u001B[0;32m    333\u001B[0m \u001B[38;5;250m\u001B[39m\u001B[38;5;124;03m\"\"\"Return the Python representation of ``s`` (a ``str`` instance\u001B[39;00m\n\u001B[0;32m    334\u001B[0m \u001B[38;5;124;03mcontaining a JSON document).\u001B[39;00m\n\u001B[0;32m    335\u001B[0m \n\u001B[0;32m    336\u001B[0m \u001B[38;5;124;03m\"\"\"\u001B[39;00m\n\u001B[1;32m--> 337\u001B[0m obj, end \u001B[38;5;241m=\u001B[39m \u001B[38;5;28mself\u001B[39m\u001B[38;5;241m.\u001B[39mraw_decode(s, idx\u001B[38;5;241m=\u001B[39m_w(s, \u001B[38;5;241m0\u001B[39m)\u001B[38;5;241m.\u001B[39mend())\n\u001B[0;32m    338\u001B[0m end \u001B[38;5;241m=\u001B[39m _w(s, end)\u001B[38;5;241m.\u001B[39mend()\n",
      "File \u001B[1;32m~\\anaconda3\\Lib\\json\\decoder.py:355\u001B[0m, in \u001B[0;36mJSONDecoder.raw_decode\u001B[1;34m(self, s, idx)\u001B[0m\n\u001B[0;32m    354\u001B[0m \u001B[38;5;28;01mexcept\u001B[39;00m \u001B[38;5;167;01mStopIteration\u001B[39;00m \u001B[38;5;28;01mas\u001B[39;00m err:\n\u001B[1;32m--> 355\u001B[0m     \u001B[38;5;28;01mraise\u001B[39;00m JSONDecodeError(\u001B[38;5;124m\"\u001B[39m\u001B[38;5;124mExpecting value\u001B[39m\u001B[38;5;124m\"\u001B[39m, s, err\u001B[38;5;241m.\u001B[39mvalue) \u001B[38;5;28;01mfrom\u001B[39;00m \u001B[38;5;28;01mNone\u001B[39;00m\n\u001B[0;32m    356\u001B[0m \u001B[38;5;28;01mreturn\u001B[39;00m obj, end\n",
      "\u001B[1;31mJSONDecodeError\u001B[0m: Expecting value: line 1 column 1 (char 0)",
      "\nDuring handling of the above exception, another exception occurred:\n",
      "\u001B[1;31mJSONDecodeError\u001B[0m                           Traceback (most recent call last)",
      "Cell \u001B[1;32mIn[20], line 1\u001B[0m\n\u001B[1;32m----> 1\u001B[0m r\u001B[38;5;241m.\u001B[39mjson()\n",
      "File \u001B[1;32m~\\anaconda3\\Lib\\site-packages\\requests\\models.py:975\u001B[0m, in \u001B[0;36mResponse.json\u001B[1;34m(self, **kwargs)\u001B[0m\n\u001B[0;32m    971\u001B[0m     \u001B[38;5;28;01mreturn\u001B[39;00m complexjson\u001B[38;5;241m.\u001B[39mloads(\u001B[38;5;28mself\u001B[39m\u001B[38;5;241m.\u001B[39mtext, \u001B[38;5;241m*\u001B[39m\u001B[38;5;241m*\u001B[39mkwargs)\n\u001B[0;32m    972\u001B[0m \u001B[38;5;28;01mexcept\u001B[39;00m JSONDecodeError \u001B[38;5;28;01mas\u001B[39;00m e:\n\u001B[0;32m    973\u001B[0m     \u001B[38;5;66;03m# Catch JSON-related errors and raise as requests.JSONDecodeError\u001B[39;00m\n\u001B[0;32m    974\u001B[0m     \u001B[38;5;66;03m# This aliases json.JSONDecodeError and simplejson.JSONDecodeError\u001B[39;00m\n\u001B[1;32m--> 975\u001B[0m     \u001B[38;5;28;01mraise\u001B[39;00m RequestsJSONDecodeError(e\u001B[38;5;241m.\u001B[39mmsg, e\u001B[38;5;241m.\u001B[39mdoc, e\u001B[38;5;241m.\u001B[39mpos)\n",
      "\u001B[1;31mJSONDecodeError\u001B[0m: Expecting value: line 1 column 1 (char 0)"
     ]
    }
   ],
   "source": [
    "r.json()"
   ],
   "metadata": {
    "collapsed": false,
    "ExecuteTime": {
     "end_time": "2024-06-17T16:02:35.180093400Z",
     "start_time": "2024-06-17T16:02:35.145030Z"
    }
   }
  },
  {
   "cell_type": "code",
   "execution_count": 10,
   "outputs": [
    {
     "name": "stdout",
     "output_type": "stream",
     "text": [
      "0, CENTER_TITLE (3)\n",
      "1, SUBTITLE (4)\n"
     ]
    }
   ],
   "source": [
    "slide = x.prs.slides[0]\n",
    "for shape in slide.shapes:\n",
    "    if shape.is_placeholder:\n",
    "        phf = shape.placeholder_format\n",
    "        print('%d, %s' % (phf.idx, phf.type))\n",
    "    else:\n",
    "        print('Not a placeholder')"
   ],
   "metadata": {
    "collapsed": false,
    "ExecuteTime": {
     "end_time": "2024-06-15T17:10:13.254482500Z",
     "start_time": "2024-06-15T17:10:13.248299Z"
    }
   }
  },
  {
   "cell_type": "code",
   "execution_count": 23,
   "outputs": [
    {
     "data": {
      "text/plain": "['__class__',\n '__delattr__',\n '__dict__',\n '__dir__',\n '__doc__',\n '__eq__',\n '__format__',\n '__ge__',\n '__getattribute__',\n '__getstate__',\n '__gt__',\n '__hash__',\n '__init__',\n '__init_subclass__',\n '__le__',\n '__lt__',\n '__module__',\n '__ne__',\n '__new__',\n '__reduce__',\n '__reduce_ex__',\n '__repr__',\n '__setattr__',\n '__sizeof__',\n '__str__',\n '__subclasshook__',\n '__weakref__',\n '_element',\n '_rPr',\n 'bold',\n 'color',\n 'fill',\n 'italic',\n 'language_id',\n 'name',\n 'size',\n 'underline']"
     },
     "execution_count": 23,
     "metadata": {},
     "output_type": "execute_result"
    }
   ],
   "source": [
    "title_shape = slide.shapes.title\n",
    "dir(title_shape.text_frame.paragraphs[0].font)"
   ],
   "metadata": {
    "collapsed": false,
    "ExecuteTime": {
     "end_time": "2024-06-15T17:46:22.735753100Z",
     "start_time": "2024-06-15T17:46:22.722549200Z"
    }
   }
  },
  {
   "cell_type": "code",
   "execution_count": 26,
   "id": "774e0117-be81-4835-b4d7-025753ff0f3a",
   "metadata": {
    "ExecuteTime": {
     "end_time": "2024-06-15T17:56:28.076128900Z",
     "start_time": "2024-06-15T17:56:28.072611300Z"
    }
   },
   "outputs": [],
   "source": [
    "title_shape.text_frame.paragraphs[0].font.size"
   ]
  },
  {
   "cell_type": "code",
   "execution_count": 28,
   "outputs": [
    {
     "data": {
      "text/plain": "''"
     },
     "execution_count": 28,
     "metadata": {},
     "output_type": "execute_result"
    }
   ],
   "source": [
    "x.prs.core_properties.title"
   ],
   "metadata": {
    "collapsed": false,
    "ExecuteTime": {
     "end_time": "2024-06-15T17:57:15.457004Z",
     "start_time": "2024-06-15T17:57:15.451654500Z"
    }
   }
  },
  {
   "cell_type": "code",
   "execution_count": null,
   "outputs": [],
   "source": [],
   "metadata": {
    "collapsed": false
   }
  }
 ],
 "metadata": {
  "kernelspec": {
   "display_name": "Python 3 (ipykernel)",
   "language": "python",
   "name": "python3"
  },
  "language_info": {
   "codemirror_mode": {
    "name": "ipython",
    "version": 3
   },
   "file_extension": ".py",
   "mimetype": "text/x-python",
   "name": "python",
   "nbconvert_exporter": "python",
   "pygments_lexer": "ipython3",
   "version": "3.11.5"
  }
 },
 "nbformat": 4,
 "nbformat_minor": 5
}
